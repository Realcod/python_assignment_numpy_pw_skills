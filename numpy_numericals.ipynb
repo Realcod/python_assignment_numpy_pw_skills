{
  "metadata": {
    "kernelspec": {
      "name": "python",
      "display_name": "Python (Pyodide)",
      "language": "python"
    },
    "language_info": {
      "codemirror_mode": {
        "name": "python",
        "version": 3
      },
      "file_extension": ".py",
      "mimetype": "text/x-python",
      "name": "python",
      "nbconvert_exporter": "python",
      "pygments_lexer": "ipython3",
      "version": "3.8"
    }
  },
  "nbformat_minor": 5,
  "nbformat": 4,
  "cells": [
    {
      "id": "a35eeb9f-df70-4ab1-a243-2d2025888eb0",
      "cell_type": "markdown",
      "source": "# Introduction to the JupyterLab and Jupyter Notebooks\n\nThis is a short introduction to two of the flagship tools created by [the Jupyter Community](https://jupyter.org).\n\n> **⚠️Experimental!⚠️**: This is an experimental interface provided by the [JupyterLite project](https://jupyterlite.readthedocs.io/en/latest/). It embeds an entire JupyterLab interface, with many popular packages for scientific computing, in your browser. There may be minor differences in behavior between JupyterLite and the JupyterLab you install locally. You may also encounter some bugs or unexpected behavior. To report any issues, or to get involved with the JupyterLite project, see [the JupyterLite repository](https://github.com/jupyterlite/jupyterlite/issues?q=is%3Aissue+is%3Aopen+sort%3Aupdated-desc).\n\n## JupyterLab 🧪\n\n**JupyterLab** is a next-generation web-based user interface for Project Jupyter. It enables you to work with documents and activities such as Jupyter notebooks, text editors, terminals, and custom components in a flexible, integrated, and extensible manner. It is the interface that you're looking at right now.\n\n**For an overview of the JupyterLab interface**, see the **JupyterLab Welcome Tour** on this page, by going to `Help -> Welcome Tour` and following the prompts.\n\n> **See Also**: For a more in-depth tour of JupyterLab with a full environment that runs in the cloud, see [the JupyterLab introduction on Binder](https://mybinder.org/v2/gh/jupyterlab/jupyterlab-demo/HEAD?urlpath=lab/tree/demo).\n\n## Jupyter Notebooks 📓\n\n**Jupyter Notebooks** are a community standard for communicating and performing interactive computing. They are a document that blends computations, outputs, explanatory text, mathematics, images, and rich media representations of objects.\n\nJupyterLab is one interface used to create and interact with Jupyter Notebooks.\n\n**For an overview of Jupyter Notebooks**, see the **JupyterLab Welcome Tour** on this page, by going to `Help -> Notebook Tour` and following the prompts.\n\n> **See Also**: For a more in-depth tour of Jupyter Notebooks and the Classic Jupyter Notebook interface, see [the Jupyter Notebook IPython tutorial on Binder](https://mybinder.org/v2/gh/ipython/ipython-in-depth/HEAD?urlpath=tree/binder/Index.ipynb).\n\n## An example: visualizing data in the notebook ✨\n\nBelow is an example of a code cell. We'll visualize some simple data using two popular packages in Python. We'll use [NumPy](https://numpy.org/) to create some random data, and [Matplotlib](https://matplotlib.org) to visualize it.\n\nNote how the code and the results of running the code are bundled together.",
      "metadata": {}
    },
    {
      "id": "956d60eb-c24d-4e27-95d9-b9b96fc97c4b",
      "cell_type": "code",
      "source": "",
      "metadata": {
        "trusted": true
      },
      "outputs": [],
      "execution_count": null
    },
    {
      "id": "dc975652-0922-4dd3-a93e-12c838c9458e",
      "cell_type": "code",
      "source": "",
      "metadata": {
        "trusted": true
      },
      "outputs": [],
      "execution_count": null
    },
    {
      "id": "fe55883a-6887-43dd-9498-5333a51799e2",
      "cell_type": "code",
      "source": "import numpy as np\narr=np.array([1,2,3,4])\nprint(arr)",
      "metadata": {
        "trusted": true
      },
      "outputs": [
        {
          "name": "stdout",
          "text": "[1 2 3 4]\n",
          "output_type": "stream"
        }
      ],
      "execution_count": 2
    },
    {
      "id": "3e1f9304-2f9d-47c9-b15d-73725ce7af7d",
      "cell_type": "code",
      "source": "import numpy as np\narr=np.array([[1,2,3,4],[5,6,7,8]])\nprint(arr)",
      "metadata": {
        "trusted": true
      },
      "outputs": [
        {
          "name": "stdout",
          "text": "[[1 2 3 4]\n [5 6 7 8]]\n",
          "output_type": "stream"
        }
      ],
      "execution_count": 3
    },
    {
      "id": "e26d103c-41db-4b3d-940f-b64eab40c07d",
      "cell_type": "code",
      "source": "n=arr.ndim\nprint(n)",
      "metadata": {
        "trusted": true
      },
      "outputs": [
        {
          "name": "stdout",
          "text": "2\n",
          "output_type": "stream"
        }
      ],
      "execution_count": 10
    },
    {
      "id": "8d6bce71-300c-4183-b5bd-2596946a72e6",
      "cell_type": "code",
      "source": "arrr=np.fromstring('22 23 24',dtype=int,sep=\" \")",
      "metadata": {
        "trusted": true
      },
      "outputs": [],
      "execution_count": 4
    },
    {
      "id": "b51198a1-6e71-43c6-a210-34a86a791cbf",
      "cell_type": "code",
      "source": "print(arrr)",
      "metadata": {
        "trusted": true
      },
      "outputs": [
        {
          "name": "stdout",
          "text": "[22 23 24]\n",
          "output_type": "stream"
        }
      ],
      "execution_count": 16
    },
    {
      "id": "dc5a1a41-bff8-4814-ae31-6f2765cc4836",
      "cell_type": "code",
      "source": "print(np.arange(1,10))",
      "metadata": {
        "trusted": true
      },
      "outputs": [
        {
          "name": "stdout",
          "text": "[1 2 3 4 5 6 7 8 9]\n",
          "output_type": "stream"
        }
      ],
      "execution_count": 5
    },
    {
      "id": "55a59c9a-5855-429a-afc9-e2797cd7cb00",
      "cell_type": "code",
      "source": "arr.flatten()",
      "metadata": {
        "trusted": true
      },
      "outputs": [
        {
          "execution_count": 6,
          "output_type": "execute_result",
          "data": {
            "text/plain": "array([1, 2, 3, 4, 5, 6, 7, 8])"
          },
          "metadata": {}
        }
      ],
      "execution_count": 6
    },
    {
      "id": "834ed89e-b2d0-4da6-82c3-e7c1bf998587",
      "cell_type": "code",
      "source": "import numpy as np",
      "metadata": {
        "trusted": true
      },
      "outputs": [],
      "execution_count": 1
    },
    {
      "id": "ad1aad5d-716f-4e1f-9dec-42df5851f54d",
      "cell_type": "code",
      "source": "import numpy as np\n\n# Generate a 5x6 array with random integers between 1 and 100\narr = np.random.randint(1, 101, size=(5, 6))\n\nprint(arr)\n",
      "metadata": {
        "trusted": true
      },
      "outputs": [
        {
          "name": "stdout",
          "text": "[[41 15  6 63 46 89]\n [63 39 20  1 60 35]\n [73 67 55 32 91 10]\n [ 7  8 91 92  4 43]\n [65 96 69 87 90 96]]\n",
          "output_type": "stream"
        }
      ],
      "execution_count": 9
    },
    {
      "id": "0367d3bd-b240-4612-8339-15add1e11e42",
      "cell_type": "code",
      "source": "print(arr.T)",
      "metadata": {
        "trusted": true
      },
      "outputs": [
        {
          "name": "stdout",
          "text": "[[41 63 73  7 65]\n [15 39 67  8 96]\n [ 6 20 55 91 69]\n [63  1 32 92 87]\n [46 60 91  4 90]\n [89 35 10 43 96]]\n",
          "output_type": "stream"
        }
      ],
      "execution_count": 10
    },
    {
      "id": "61b82695-1ecb-4f65-8025-cec75281cb44",
      "cell_type": "code",
      "source": "arr1=np.random.randint(1,10,10)",
      "metadata": {
        "trusted": true
      },
      "outputs": [],
      "execution_count": 12
    },
    {
      "id": "d8673fb9-87ad-4d07-83b8-498aece05fae",
      "cell_type": "code",
      "source": "arr1",
      "metadata": {
        "trusted": true
      },
      "outputs": [
        {
          "execution_count": 13,
          "output_type": "execute_result",
          "data": {
            "text/plain": "array([7, 6, 1, 4, 5, 9, 6, 8, 4, 3])"
          },
          "metadata": {}
        }
      ],
      "execution_count": 13
    },
    {
      "id": "6d2ec0ff-fb4c-4d00-82a2-063cf2ca5ba9",
      "cell_type": "code",
      "source": "arr1.reshape(2,5)",
      "metadata": {
        "trusted": true
      },
      "outputs": [
        {
          "execution_count": 14,
          "output_type": "execute_result",
          "data": {
            "text/plain": "array([[7, 6, 1, 4, 5],\n       [9, 6, 8, 4, 3]])"
          },
          "metadata": {}
        }
      ],
      "execution_count": 14
    },
    {
      "id": "aa9a5a3b-58e8-465d-9b8f-432f8ca7d40b",
      "cell_type": "code",
      "source": "arr1.reshape(5,2)",
      "metadata": {
        "trusted": true
      },
      "outputs": [
        {
          "execution_count": 15,
          "output_type": "execute_result",
          "data": {
            "text/plain": "array([[7, 6],\n       [1, 4],\n       [5, 9],\n       [6, 8],\n       [4, 3]])"
          },
          "metadata": {}
        }
      ],
      "execution_count": 15
    },
    {
      "id": "2e5327f7-f01d-43f8-b9e2-da17dc4b2c93",
      "cell_type": "code",
      "source": "arr2 = np.random.rand(4, 4)",
      "metadata": {
        "trusted": true
      },
      "outputs": [],
      "execution_count": 19
    },
    {
      "id": "0382bcaf-6adb-42b6-9d00-24b883802e34",
      "cell_type": "code",
      "source": "new_arr = np.pad(arr, pad_width=1, mode='constant', constant_values=0)\nprint(new_arr)",
      "metadata": {
        "trusted": true
      },
      "outputs": [
        {
          "name": "stdout",
          "text": "[[ 0  0  0  0  0  0  0  0]\n [ 0 41 15  6 63 46 89  0]\n [ 0 63 39 20  1 60 35  0]\n [ 0 73 67 55 32 91 10  0]\n [ 0  7  8 91 92  4 43  0]\n [ 0 65 96 69 87 90 96  0]\n [ 0  0  0  0  0  0  0  0]]\n",
          "output_type": "stream"
        }
      ],
      "execution_count": 20
    },
    {
      "id": "2a1d1515-4a3a-4a27-9c09-1fa6bf6ba6a9",
      "cell_type": "code",
      "source": "arr3=np.linespace(10,50,5)",
      "metadata": {
        "trusted": true
      },
      "outputs": [
        {
          "ename": "<class 'AttributeError'>",
          "evalue": "module 'numpy' has no attribute 'linespace'",
          "traceback": [
            "\u001b[0;31m---------------------------------------------------------------------------\u001b[0m",
            "\u001b[0;31mAttributeError\u001b[0m                            Traceback (most recent call last)",
            "Cell \u001b[0;32mIn[21], line 1\u001b[0m\n\u001b[0;32m----> 1\u001b[0m arr3\u001b[38;5;241m=\u001b[39m\u001b[43mnp\u001b[49m\u001b[38;5;241;43m.\u001b[39;49m\u001b[43mlinespace\u001b[49m(\u001b[38;5;241m10\u001b[39m,\u001b[38;5;241m50\u001b[39m,\u001b[38;5;241m5\u001b[39m)\n",
            "File \u001b[0;32m/lib/python3.12/site-packages/numpy/__init__.py:333\u001b[0m, in \u001b[0;36m__getattr__\u001b[0;34m(attr)\u001b[0m\n\u001b[1;32m    330\u001b[0m     \u001b[38;5;124m\"\u001b[39m\u001b[38;5;124mRemoved in NumPy 1.25.0\u001b[39m\u001b[38;5;124m\"\u001b[39m\n\u001b[1;32m    331\u001b[0m     \u001b[38;5;28;01mraise\u001b[39;00m \u001b[38;5;167;01mRuntimeError\u001b[39;00m(\u001b[38;5;124m\"\u001b[39m\u001b[38;5;124mTester was removed in NumPy 1.25.\u001b[39m\u001b[38;5;124m\"\u001b[39m)\n\u001b[0;32m--> 333\u001b[0m \u001b[38;5;28;01mraise\u001b[39;00m \u001b[38;5;167;01mAttributeError\u001b[39;00m(\u001b[38;5;124m\"\u001b[39m\u001b[38;5;124mmodule \u001b[39m\u001b[38;5;132;01m{!r}\u001b[39;00m\u001b[38;5;124m has no attribute \u001b[39m\u001b[38;5;124m\"\u001b[39m\n\u001b[1;32m    334\u001b[0m                      \u001b[38;5;124m\"\u001b[39m\u001b[38;5;132;01m{!r}\u001b[39;00m\u001b[38;5;124m\"\u001b[39m\u001b[38;5;241m.\u001b[39mformat(\u001b[38;5;18m__name__\u001b[39m, attr))\n",
            "\u001b[0;31mAttributeError\u001b[0m: module 'numpy' has no attribute 'linespace'"
          ],
          "output_type": "error"
        }
      ],
      "execution_count": 21
    },
    {
      "id": "ebc08bf3-c35c-488d-a073-61bd5fc9a119",
      "cell_type": "code",
      "source": "arr4=np.arange(10, 65, 5)",
      "metadata": {
        "trusted": true
      },
      "outputs": [],
      "execution_count": 22
    },
    {
      "id": "17c87658-3091-4abf-885a-c3180d41b46a",
      "cell_type": "code",
      "source": "print(arr4)",
      "metadata": {
        "trusted": true
      },
      "outputs": [
        {
          "name": "stdout",
          "text": "[10 15 20 25 30 35 40 45 50 55 60]\n",
          "output_type": "stream"
        }
      ],
      "execution_count": 23
    },
    {
      "id": "e2ac2ade-0983-47a5-b1ce-ffc576fcd8b8",
      "cell_type": "code",
      "source": "arr5=np.array(['python','numpy','pandas'])\nprint(arr5)",
      "metadata": {
        "trusted": true
      },
      "outputs": [
        {
          "name": "stdout",
          "text": "['python' 'numpy' 'pandas']\n",
          "output_type": "stream"
        }
      ],
      "execution_count": 25
    },
    {
      "id": "45e34fd9-8534-4e4b-8821-f04346dc7adf",
      "cell_type": "code",
      "source": "print(np.char.upper(arr5))",
      "metadata": {
        "trusted": true
      },
      "outputs": [
        {
          "name": "stdout",
          "text": "['PYTHON' 'NUMPY' 'PANDAS']\n",
          "output_type": "stream"
        }
      ],
      "execution_count": 26
    },
    {
      "id": "99444c86-e8a2-47d5-9eb5-ec776b58a0e8",
      "cell_type": "code",
      "source": "print(np.char.lower(arr5))",
      "metadata": {
        "trusted": true
      },
      "outputs": [
        {
          "name": "stdout",
          "text": "['python' 'numpy' 'pandas']\n",
          "output_type": "stream"
        }
      ],
      "execution_count": 27
    },
    {
      "id": "0dc09500-992b-45fd-9b05-b10204233eda",
      "cell_type": "code",
      "source": "print(np.char.capitalize(arr5))",
      "metadata": {
        "trusted": true
      },
      "outputs": [
        {
          "name": "stdout",
          "text": "['Python' 'Numpy' 'Pandas']\n",
          "output_type": "stream"
        }
      ],
      "execution_count": 28
    },
    {
      "id": "3f14e126-0d2b-40a8-b9a8-2533faa66c9b",
      "cell_type": "code",
      "source": "arr6 = np.array(['python', 'numpy', 'pandas'])\nspaced_arr = np.char.join(' ', arr6)",
      "metadata": {
        "trusted": true
      },
      "outputs": [],
      "execution_count": 29
    },
    {
      "id": "9f8f58ce-63dd-4a49-b43b-fd66eccd0bb0",
      "cell_type": "code",
      "source": "print(spaced_arr)",
      "metadata": {
        "trusted": true
      },
      "outputs": [
        {
          "name": "stdout",
          "text": "['p y t h o n' 'n u m p y' 'p a n d a s']\n",
          "output_type": "stream"
        }
      ],
      "execution_count": 30
    },
    {
      "id": "13f3279a-4be8-48ce-a87b-acf3805c7e9b",
      "cell_type": "code",
      "source": "import numpy as np\n\n# Step 1: Create two 2D NumPy arrays\narr1 = np.array([[1, 2, 3], [4, 5, 6]])\narr2 = np.array([[6, 5, 4], [3, 2, 1]])\n\n# Step 2: Perform element-wise operations\n\n# Element-wise addition\naddition = arr1 + arr2\n\n# Element-wise subtraction\nsubtraction = arr1 - arr2\n\n# Element-wise multiplication\nmultiplication = arr1 * arr2\n\n# Element-wise division\ndivision = arr1 / arr2\n\n# Step 3: Print the results\nprint(\"Array 1:\\n\", arr1)\nprint(\"Array 2:\\n\", arr2)\n\nprint(\"\\nElement-wise Addition:\\n\", addition)\nprint(\"\\nElement-wise Subtraction:\\n\", subtraction)\nprint(\"\\nElement-wise Multiplication:\\n\", multiplication)\nprint(\"\\nElement-wise Division:\\n\", division)\n",
      "metadata": {
        "trusted": true
      },
      "outputs": [
        {
          "name": "stdout",
          "text": "Array 1:\n [[1 2 3]\n [4 5 6]]\nArray 2:\n [[6 5 4]\n [3 2 1]]\n\nElement-wise Addition:\n [[7 7 7]\n [7 7 7]]\n\nElement-wise Subtraction:\n [[-5 -3 -1]\n [ 1  3  5]]\n\nElement-wise Multiplication:\n [[ 6 10 12]\n [12 10  6]]\n\nElement-wise Division:\n [[0.16666667 0.4        0.75      ]\n [1.33333333 2.5        6.        ]]\n",
          "output_type": "stream"
        }
      ],
      "execution_count": 31
    },
    {
      "id": "8be597ff-06c5-4ae0-96f7-2d1941b0e602",
      "cell_type": "code",
      "source": "import numpy as np\n\n# Step 1: Create a 5x5 identity matrix\nidentity_matrix = np.eye(5)\n\n# Step 2: Extract the diagonal elements\ndiagonal_elements = np.diag(identity_matrix)\n\n# Step 3: Print the results\nprint(\"5x5 Identity Matrix:\\n\", identity_matrix)\nprint(\"\\nDiagonal Elements:\", diagonal_elements)\n",
      "metadata": {
        "trusted": true
      },
      "outputs": [
        {
          "name": "stdout",
          "text": "5x5 Identity Matrix:\n [[1. 0. 0. 0. 0.]\n [0. 1. 0. 0. 0.]\n [0. 0. 1. 0. 0.]\n [0. 0. 0. 1. 0.]\n [0. 0. 0. 0. 1.]]\n\nDiagonal Elements: [1. 1. 1. 1. 1.]\n",
          "output_type": "stream"
        }
      ],
      "execution_count": 32
    },
    {
      "id": "88fb0cdc-e124-4cb2-888c-a204215cd85f",
      "cell_type": "code",
      "source": "import numpy as np\n\n# Step 1: Generate a NumPy array of 100 random integers between 0 and 1000\narr = np.random.randint(0, 1000, size=100)\n\n# Step 2: Define a function to check if a number is prime\ndef is_prime(num):\n    if num < 2:\n        return False\n    for i in range(2, int(np.sqrt(num)) + 1):  # Check divisibility up to sqrt(num)\n        if num % i == 0:\n            return False\n    return True\n\n# Step 3: Find prime numbers using a for loop\nprime_numbers = []\nfor num in arr:\n    if is_prime(num):\n        prime_numbers.append(num)\n\n# Convert the result back to a NumPy array\nprime_numbers = np.array(prime_numbers)\n\n# Step 4: Print the original array and the prime numbers found\nprint(\"Original Array:\\n\", arr)\nprint(\"\\nPrime Numbers in the Array:\\n\", prime_numbers)\n",
      "metadata": {
        "trusted": true
      },
      "outputs": [
        {
          "name": "stdout",
          "text": "Original Array:\n [598 167 932 197 544  84  27 214 818 399 867 291 619 470 245 458 777 236\n 823 134 465 198 655  25  89 893 375   4 552 943 306 262 225 405 404 282\n 357 350 308 380  86 821 520 913 330 957 727 914 313 733 491 309 592 867\n 868 216  34 426  99 666 346  68 383 403  39 678 606 119 226  54 448 158\n 185 907 689 951  64 732 725 177 723 688 778 758 750 299 866 261 557 820\n 515 532 964 751 230 385 860 738 805 716]\n\nPrime Numbers in the Array:\n [167 197 619 823  89 821 727 313 733 491 383 907 557 751]\n",
          "output_type": "stream"
        }
      ],
      "execution_count": 33
    },
    {
      "id": "cfe57bdd-7490-4bd5-8ad6-ebf2a7522486",
      "cell_type": "code",
      "source": "import numpy as np\n\n# Step 1: Create a NumPy array representing daily temperatures for a month (30 days)\ndaily_temperatures = np.random.randint(20, 35, size=30)  # Random temperatures between 20 and 35 degrees Celsius\n\n# Step 2: Reshape the array to 4 weeks (7 days per week)\nweekly_temperatures = daily_temperatures.reshape(4, 7)\n\n# Step 3: Calculate the weekly averages\nweekly_averages = np.mean(weekly_temperatures, axis=1)\n\n# Step 4: Print the daily temperatures and weekly averages\nprint(\"Daily Temperatures for the Month:\\n\", daily_temperatures)\nprint(\"\\nWeekly Temperatures:\\n\", weekly_temperatures)\nprint(\"\\nWeekly Averages:\\n\", weekly_averages)\n",
      "metadata": {
        "trusted": true
      },
      "outputs": [
        {
          "ename": "<class 'ValueError'>",
          "evalue": "cannot reshape array of size 30 into shape (4,7)",
          "traceback": [
            "\u001b[0;31m---------------------------------------------------------------------------\u001b[0m",
            "\u001b[0;31mValueError\u001b[0m                                Traceback (most recent call last)",
            "Cell \u001b[0;32mIn[34], line 7\u001b[0m\n\u001b[1;32m      4\u001b[0m daily_temperatures \u001b[38;5;241m=\u001b[39m np\u001b[38;5;241m.\u001b[39mrandom\u001b[38;5;241m.\u001b[39mrandint(\u001b[38;5;241m20\u001b[39m, \u001b[38;5;241m35\u001b[39m, size\u001b[38;5;241m=\u001b[39m\u001b[38;5;241m30\u001b[39m)  \u001b[38;5;66;03m# Random temperatures between 20 and 35 degrees Celsius\u001b[39;00m\n\u001b[1;32m      6\u001b[0m \u001b[38;5;66;03m# Step 2: Reshape the array to 4 weeks (7 days per week)\u001b[39;00m\n\u001b[0;32m----> 7\u001b[0m weekly_temperatures \u001b[38;5;241m=\u001b[39m \u001b[43mdaily_temperatures\u001b[49m\u001b[38;5;241;43m.\u001b[39;49m\u001b[43mreshape\u001b[49m\u001b[43m(\u001b[49m\u001b[38;5;241;43m4\u001b[39;49m\u001b[43m,\u001b[49m\u001b[43m \u001b[49m\u001b[38;5;241;43m7\u001b[39;49m\u001b[43m)\u001b[49m\n\u001b[1;32m      9\u001b[0m \u001b[38;5;66;03m# Step 3: Calculate the weekly averages\u001b[39;00m\n\u001b[1;32m     10\u001b[0m weekly_averages \u001b[38;5;241m=\u001b[39m np\u001b[38;5;241m.\u001b[39mmean(weekly_temperatures, axis\u001b[38;5;241m=\u001b[39m\u001b[38;5;241m1\u001b[39m)\n",
            "\u001b[0;31mValueError\u001b[0m: cannot reshape array of size 30 into shape (4,7)"
          ],
          "output_type": "error"
        }
      ],
      "execution_count": 34
    },
    {
      "id": "2b7ffd78-3981-4c42-9420-8bd0a6e7b03a",
      "cell_type": "code",
      "source": "",
      "metadata": {
        "trusted": true
      },
      "outputs": [],
      "execution_count": null
    }
  ]
}