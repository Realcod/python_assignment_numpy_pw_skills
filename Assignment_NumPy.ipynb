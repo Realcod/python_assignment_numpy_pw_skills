{
  "nbformat": 4,
  "nbformat_minor": 0,
  "metadata": {
    "colab": {
      "provenance": []
    },
    "kernelspec": {
      "name": "python3",
      "display_name": "Python 3"
    },
    "language_info": {
      "name": "python"
    }
  },
  "cells": [
    {
      "cell_type": "code",
      "execution_count": null,
      "metadata": {
        "id": "Yn2mIKbRsgin"
      },
      "outputs": [],
      "source": [
        "#Explain the purpose and advantages of NumPy in scientific computing and data analysis. How does it enhance Python's capabilities for numerical operations?"
      ]
    },
    {
      "cell_type": "markdown",
      "source": [
        "NumPy, short for Numerical Python, is a fundamental library in Python that provides support for large, multi-dimensional arrays and matrices, along with a vast collection of mathematical functions to operate on these arrays. It is widely used in scientific computing and data analysis due to its efficiency and versatility. Here’s how NumPy enhances Python’s capabilities:\n",
        "\n",
        "Purpose of NumPy:\n",
        "Efficient handling of numerical data:\n",
        "\n",
        "Python’s built-in data structures, like lists, are not optimized for mathematical operations on large datasets. NumPy provides an array object (ndarray), which is far more efficient for numerical computations.\n",
        "Support for multidimensional arrays:\n",
        "\n",
        "NumPy’s ndarray can handle multi-dimensional arrays (i.e., matrices, 3D tensors, etc.), which are essential in fields like physics, engineering, machine learning, and data science.\n",
        "High-performance mathematical functions:\n",
        "\n",
        "NumPy provides a wide range of optimized mathematical functions, including linear algebra, Fourier transforms, random number generation, and more.\n",
        "Foundation for other libraries:\n",
        "\n",
        "Many popular libraries in scientific computing and data analysis, such as Pandas, SciPy, TensorFlow, and Scikit-learn, are built on top of NumPy arrays, making it an integral part of the Python data ecosystem.\n",
        "Advantages of NumPy in Scientific Computing and Data Analysis:\n",
        "Speed and Memory Efficiency:\n",
        "\n",
        "Efficient memory usage: NumPy arrays are stored in contiguous memory blocks, unlike Python lists, which are arrays of pointers to objects. This minimizes memory overhead and makes operations faster.\n",
        "Vectorized operations: Instead of looping through elements (as you would with lists), NumPy enables vectorized operations, where operations are applied element-wise, significantly speeding up computations. For example, adding two arrays of a million elements each happens in a single operation without an explicit loop.\n",
        "Optimized C and Fortran code: NumPy is written in C and Fortran under the hood, allowing it to access highly optimized, low-level code for computations, which can lead to orders of magnitude performance improvements over standard Python.\n",
        "Array Broadcasting:\n",
        "\n",
        "Broadcasting allows operations on arrays of different shapes and sizes by automatically expanding their dimensions to make them compatible. This simplifies code by avoiding the need for explicit loops or complex reshaping.\n",
        "Example: You can add a 1D array to a 2D array without writing a loop.\n",
        "Support for Complex Mathematical Operations:\n",
        "\n",
        "NumPy provides optimized routines for tasks such as matrix multiplication, solving systems of equations, performing element-wise operations, statistical analysis, and more. These operations are crucial for scientific and engineering problems.\n",
        "Cross-Language Integration:\n",
        "\n",
        "NumPy arrays can interface efficiently with data from other languages like C, C++, and Fortran. This makes it easier to integrate Python with other high-performance codebases.\n",
        "Advanced Indexing and Slicing:\n",
        "\n",
        "NumPy offers more powerful indexing and slicing functionalities than Python lists, allowing for efficient subsetting, filtering, and manipulation of large datasets.\n",
        "Random Number Generation:\n",
        "\n",
        "NumPy includes a fast and flexible random number generation module (numpy.random), which is crucial for simulations, statistical sampling, and machine learning tasks like initializing weights in neural networks.\n",
        "Ease of Use:\n",
        "\n",
        "NumPy has an intuitive, Pythonic syntax, making it easy for beginners while still providing advanced functionality for experienced users. It integrates seamlessly with Python’s native features.\n",
        "Integration with Other Scientific Libraries:\n",
        "\n",
        "Since NumPy is the core of many other scientific computing libraries (like SciPy for advanced mathematics, Pandas for data analysis, and Matplotlib for plotting), it fits naturally into the Python ecosystem, promoting smooth collaboration between different libraries.\n",
        "How NumPy Enhances Python’s Capabilities for Numerical Operations:\n",
        "Faster execution: Numerical computations in Python without NumPy are often slow, particularly when working with large datasets, because Python’s lists are not optimized for numerical operations. NumPy accelerates these operations by providing efficient, compiled code for array manipulations.\n",
        "\n",
        "Handling large data: NumPy’s array manipulation tools allow Python to handle large datasets more effectively, making it a key library for data science and machine learning tasks, where handling and processing massive datasets are common.\n",
        "\n",
        "Mathematical Flexibility: Python alone doesn’t have the advanced numerical tools necessary for complex mathematical calculations. NumPy supplements this with an extensive library of linear algebra operations, Fourier transforms, statistical functions, and more.\n",
        "\n",
        "In conclusion, NumPy is a high-performance, flexible, and scalable tool that transforms Python into a powerful platform for numerical computing and data analysis. Its speed, efficiency, and extensive capabilities make it an indispensable library in scientific and engineering domains."
      ],
      "metadata": {
        "id": "ti8t_ukOsl4L"
      }
    },
    {
      "cell_type": "code",
      "source": [
        "#Compare and contrast np.mean() and np.average() functions in NumPy. When would you use one over the other?\n",
        "#np.mean()\n",
        "# Purpose: The np.mean() function computes the arithmetic mean of the elements along the specified axis of an array.\n",
        "#np.mean(a, axis=None, dtype=None, out=None, keepdims=False)\n"
      ],
      "metadata": {
        "id": "dzlOC_Gfs5Zn"
      },
      "execution_count": 1,
      "outputs": []
    },
    {
      "cell_type": "code",
      "source": [
        "import numpy as np\n",
        "arr = np.array([1, 2, 3, 4])\n",
        "print(np.mean(arr))  # Output: 2.5\n"
      ],
      "metadata": {
        "colab": {
          "base_uri": "https://localhost:8080/"
        },
        "id": "9l2aQTWktQ4m",
        "outputId": "d3a68c3e-04d1-4d74-d116-f1f5609dcf5d"
      },
      "execution_count": 2,
      "outputs": [
        {
          "output_type": "stream",
          "name": "stdout",
          "text": [
            "2.5\n"
          ]
        }
      ]
    },
    {
      "cell_type": "markdown",
      "source": [
        "np.average()\n",
        "Purpose: The np.average() function computes the weighted average of the elements in an array. By default, it calculates the same arithmetic mean as np.mean(), but it can also take into account weights if provided\n",
        "\n",
        "np.average(a, axis=None, weights=None, returned=False)\n"
      ],
      "metadata": {
        "id": "bllt__DctVxD"
      }
    },
    {
      "cell_type": "code",
      "source": [
        "arr = np.array([1, 2, 3, 4])\n",
        "weights = np.array([0.1, 0.2, 0.3, 0.4])\n",
        "print(np.average(arr, weights=weights))  # Output: 3.0\n"
      ],
      "metadata": {
        "colab": {
          "base_uri": "https://localhost:8080/"
        },
        "id": "JBFUhL9stgoW",
        "outputId": "e3b25d80-5a1d-4e68-fba5-bf32a6efddec"
      },
      "execution_count": 3,
      "outputs": [
        {
          "output_type": "stream",
          "name": "stdout",
          "text": [
            "3.0\n"
          ]
        }
      ]
    },
    {
      "cell_type": "code",
      "source": [
        "# 3. Describe the methods for reversing a NumPy array along different axes. Provide examples for 1D and 2D arrays\n",
        "#Reversing a 1D NumPy Array\n",
        "\n",
        "import numpy as np\n",
        "\n",
        "arr_1d = np.array([1, 2, 3, 4, 5])\n",
        "\n",
        "\n",
        "reversed_1d = arr_1d[::-1]\n",
        "print(reversed_1d)  # Output: [5 4 3 2 1]\n"
      ],
      "metadata": {
        "colab": {
          "base_uri": "https://localhost:8080/"
        },
        "id": "XH_U6DSgt1OI",
        "outputId": "79a2701f-9559-49e4-8bb5-6138ea344160"
      },
      "execution_count": 4,
      "outputs": [
        {
          "output_type": "stream",
          "name": "stdout",
          "text": [
            "[5 4 3 2 1]\n"
          ]
        }
      ]
    },
    {
      "cell_type": "code",
      "source": [
        "\n",
        "reversed_1d_flip = np.flip(arr_1d)\n",
        "print(reversed_1d_flip)\n"
      ],
      "metadata": {
        "colab": {
          "base_uri": "https://localhost:8080/"
        },
        "id": "KVajd4jluZMu",
        "outputId": "55683f95-9a82-41a1-9dff-34e5d757016d"
      },
      "execution_count": 5,
      "outputs": [
        {
          "output_type": "stream",
          "name": "stdout",
          "text": [
            "[5 4 3 2 1]\n"
          ]
        }
      ]
    },
    {
      "cell_type": "code",
      "source": [
        "#  How can you determine the data type of elements in a NumPy array? Discuss the importance of data types in memory management and performance?\n",
        "import numpy as np\n",
        "\n",
        "arr = np.array([1, 2, 3, 4])\n",
        "\n",
        "print(arr.dtype)\n"
      ],
      "metadata": {
        "colab": {
          "base_uri": "https://localhost:8080/"
        },
        "id": "EW246RM4ueXx",
        "outputId": "15a0be49-46fb-429f-a6fe-8cb0874163de"
      },
      "execution_count": 7,
      "outputs": [
        {
          "output_type": "stream",
          "name": "stdout",
          "text": [
            "int64\n"
          ]
        }
      ]
    },
    {
      "cell_type": "markdown",
      "source": [
        "Importance of Data Types in Memory Management and Performance\n",
        "1. Memory Efficiency\n",
        "2. Performance Optimization\n",
        "3. Precision Control\n",
        "4. Compatibility with Hardware (e.g., GPUs)"
      ],
      "metadata": {
        "id": "GM654Lybv1uj"
      }
    },
    {
      "cell_type": "code",
      "source": [
        "#5. Define ndarrays in NumPy and explain their key features. How do they differ from standard Python lists?\n"
      ],
      "metadata": {
        "id": "DsbEgJ_rwCu_"
      },
      "execution_count": null,
      "outputs": []
    },
    {
      "cell_type": "markdown",
      "source": [
        "In NumPy, an ndarray (short for N-dimensional array) is a powerful data structure used for storing and manipulating large, multi-dimensional arrays of homogeneous data. It is the core component of the NumPy library and is optimized for performing fast numerical operations on large datasets.\n",
        "\n",
        "Key Features\n",
        "\n",
        "1) Multidimensional\n",
        "\n",
        "2) Homogeneous Data\n",
        "\n",
        "3) Efficient Memory Usage\n",
        "\n",
        "4) Vectorized Operations\n",
        "\n",
        "5) Broadcasting\n",
        "\n",
        "Advantages of ndarray Over Python Lists\n",
        "\n",
        "Memory Efficiency: ndarray uses contiguous blocks of memory, which reduces memory overhead and improves data access speed.\n",
        "\n",
        "Performance: NumPy's vectorized operations are implemented in C, making them significantly faster than looping over lists in Python. This speed advantage becomes more pronounced with larger datasets.\n",
        "\n",
        "Ease of Use for Scientific Computation: NumPy provides a wide range of mathematical functions (e.g., np.sum(), np.mean(), np.dot()), making it ideal for scientific computing and numerical tasks.\n",
        "\n",
        "Broadcasting: The ability to broadcast smaller arrays to fit larger arrays during operations simplifies the code and reduces the need for explicit loops or element-wise operations.\n",
        "\n",
        "Shape Manipulation: You can reshape arrays easily without copying data, which is not possible with Python lists."
      ],
      "metadata": {
        "id": "gkAiwMUCwOZ-"
      }
    },
    {
      "cell_type": "code",
      "source": [
        "#6)  Analyze the performance benefits of NumPy arrays over Python lists for large-scale numerical operations?\n",
        "import numpy as np\n",
        "import sys\n",
        "\n",
        "list_data = list(range(1000000))\n",
        "numpy_data = np.arange(1000000)\n",
        "\n",
        "\n",
        "print(\"Memory usage of Python list:\", sys.getsizeof(list_data))\n",
        "print(\"Memory usage of NumPy array:\", numpy_data.nbytes)"
      ],
      "metadata": {
        "colab": {
          "base_uri": "https://localhost:8080/"
        },
        "id": "D9BNx0Rzw0KD",
        "outputId": "0e2bba8a-7713-4c60-cd0c-5d4e778e5778"
      },
      "execution_count": 8,
      "outputs": [
        {
          "output_type": "stream",
          "name": "stdout",
          "text": [
            "Memory usage of Python list: 8000056\n",
            "Memory usage of NumPy array: 8000000\n"
          ]
        }
      ]
    },
    {
      "cell_type": "code",
      "source": [
        "import numpy as np\n",
        "import time\n",
        "\n",
        "# Create a large NumPy array and a Python list\n",
        "large_array = np.arange(1000000)\n",
        "large_list = list(range(1000000))\n",
        "\n",
        "# Measure time for NumPy array operation\n",
        "start_time = time.time()\n",
        "result_array = large_array * 2\n",
        "print(\"Time for NumPy array operation:\", time.time() - start_time)\n",
        "\n",
        "# Measure time for Python list operation\n",
        "start_time = time.time()\n",
        "result_list = [x * 2 for x in large_list]\n",
        "print(\"Time for Python list operation:\", time.time() - start_time)\n"
      ],
      "metadata": {
        "colab": {
          "base_uri": "https://localhost:8080/"
        },
        "id": "A3y8FKEIxL7c",
        "outputId": "ce7711e2-c4a2-4d52-fe4f-7d043436943a"
      },
      "execution_count": 9,
      "outputs": [
        {
          "output_type": "stream",
          "name": "stdout",
          "text": [
            "Time for NumPy array operation: 0.01448512077331543\n",
            "Time for Python list operation: 0.0956428050994873\n"
          ]
        }
      ]
    },
    {
      "cell_type": "code",
      "source": [
        " #7Compare vstack() and hstack() functions in NumPy. Provide examples demonstrating their usage and output.\n",
        " import numpy as np\n",
        "\n",
        "array1 = np.array([[1, 2, 3],\n",
        "                   [4, 5, 6]])\n",
        "\n",
        "array2 = np.array([[7, 8, 9]])\n",
        "\n",
        "result_vstack = np.vstack((array1, array2))\n",
        "\n",
        "print(\"Result of vstack:\\n\", result_vstack)\n"
      ],
      "metadata": {
        "colab": {
          "base_uri": "https://localhost:8080/"
        },
        "id": "zoRD5ySVxT1t",
        "outputId": "021aaad6-4a0c-4ef2-a468-2535b229439e"
      },
      "execution_count": 10,
      "outputs": [
        {
          "output_type": "stream",
          "name": "stdout",
          "text": [
            "Result of vstack:\n",
            " [[1 2 3]\n",
            " [4 5 6]\n",
            " [7 8 9]]\n"
          ]
        }
      ]
    },
    {
      "cell_type": "code",
      "source": [
        "\n",
        "array3 = np.array([[1, 2, 3],\n",
        "                   [4, 5, 6]])\n",
        "\n",
        "array4 = np.array([[7, 8],\n",
        "                   [9, 10]])\n",
        "\n",
        "result_hstack = np.hstack((array3, array4))\n",
        "\n",
        "print(\"Result of hstack:\\n\", result_hstack)\n"
      ],
      "metadata": {
        "colab": {
          "base_uri": "https://localhost:8080/"
        },
        "id": "t1ca92-azd-2",
        "outputId": "8cf01199-7611-48fe-ae3c-f888956ae9d2"
      },
      "execution_count": 11,
      "outputs": [
        {
          "output_type": "stream",
          "name": "stdout",
          "text": [
            "Result of hstack:\n",
            " [[ 1  2  3  7  8]\n",
            " [ 4  5  6  9 10]]\n"
          ]
        }
      ]
    },
    {
      "cell_type": "markdown",
      "source": [
        "When to Use vstack() vs hstack()\n",
        "\n",
        "Use **vstack()** when you want to stack arrays vertically (one array below another). It’s ideal for merging datasets or matrices that have the same number of columns.\n",
        "\n",
        "Use **hstack()** when you want to stack arrays horizontally (side by side). It’s suitable for concatenating data or arrays with the same number of rows."
      ],
      "metadata": {
        "id": "klY4Cippzv68"
      }
    },
    {
      "cell_type": "code",
      "source": [
        "#  Explain the differences between fliplr() and flipud() methods in NumPy, including their effects on various array dimensions.\n"
      ],
      "metadata": {
        "id": "ARqiTgxuz1dq"
      },
      "execution_count": null,
      "outputs": []
    },
    {
      "cell_type": "markdown",
      "source": [
        "In NumPy, the fliplr() and flipud() functions are used to reverse the elements of an array along specific axes, but they differ in how they flip the array based on its dimensions:\n",
        "\n",
        "np.fliplr(): Flips an array left to right (horizontally) along the second axis (columns).\n",
        "np.flipud(): Flips an array upside down (vertically) along the first axis (rows)."
      ],
      "metadata": {
        "id": "ST0Shfrh0NzP"
      }
    },
    {
      "cell_type": "code",
      "source": [
        "import numpy as np\n",
        "\n",
        "array_2d = np.array([[1, 2, 3],\n",
        "                     [4, 5, 6],\n",
        "                     [7, 8, 9]])\n",
        "\n",
        "# Flip the array left to right\n",
        "flipped_lr = np.fliplr(array_2d)\n",
        "\n",
        "print(\"Original array:\\n\", array_2d)\n",
        "print(\"Array after fliplr:\\n\", flipped_lr)\n"
      ],
      "metadata": {
        "colab": {
          "base_uri": "https://localhost:8080/"
        },
        "id": "UE4rp0ZD0PCo",
        "outputId": "c5331b75-6bfd-4b74-88bb-0c7f99ab3e4e"
      },
      "execution_count": 12,
      "outputs": [
        {
          "output_type": "stream",
          "name": "stdout",
          "text": [
            "Original array:\n",
            " [[1 2 3]\n",
            " [4 5 6]\n",
            " [7 8 9]]\n",
            "Array after fliplr:\n",
            " [[3 2 1]\n",
            " [6 5 4]\n",
            " [9 8 7]]\n"
          ]
        }
      ]
    },
    {
      "cell_type": "code",
      "source": [
        "array_1d = np.array([1, 2, 3])"
      ],
      "metadata": {
        "id": "fGlRcO6F0yXj"
      },
      "execution_count": 13,
      "outputs": []
    },
    {
      "cell_type": "code",
      "source": [
        "array_2d = np.array([[1, 2, 3],\n",
        "                     [4, 5, 6],\n",
        "                     [7, 8, 9]])\n",
        "\n",
        "flipped_ud = np.flipud(array_2d)\n",
        "\n",
        "print(\"Original array:\\n\", array_2d)\n",
        "print(\"Array after flipud:\\n\", flipped_ud)\n"
      ],
      "metadata": {
        "colab": {
          "base_uri": "https://localhost:8080/"
        },
        "id": "BTwOXxJd03dd",
        "outputId": "e5cbd987-5c7c-4fa1-dd1b-9999891a2dbe"
      },
      "execution_count": 14,
      "outputs": [
        {
          "output_type": "stream",
          "name": "stdout",
          "text": [
            "Original array:\n",
            " [[1 2 3]\n",
            " [4 5 6]\n",
            " [7 8 9]]\n",
            "Array after flipud:\n",
            " [[7 8 9]\n",
            " [4 5 6]\n",
            " [1 2 3]]\n"
          ]
        }
      ]
    },
    {
      "cell_type": "code",
      "source": [
        "array_1d = np.array([1, 2, 3])\n",
        "\n",
        "flipped_ud_1d = np.flipud(array_1d)\n",
        "\n",
        "print(\"Original 1D array:\", array_1d)\n",
        "print(\"Array after flipud:\", flipped_ud_1d)\n"
      ],
      "metadata": {
        "colab": {
          "base_uri": "https://localhost:8080/"
        },
        "id": "6A1yg3ZL07qw",
        "outputId": "96b926ad-1d89-42a6-c0f6-b39bc275a768"
      },
      "execution_count": 15,
      "outputs": [
        {
          "output_type": "stream",
          "name": "stdout",
          "text": [
            "Original 1D array: [1 2 3]\n",
            "Array after flipud: [3 2 1]\n"
          ]
        }
      ]
    },
    {
      "cell_type": "code",
      "source": [
        "array_3d = np.array([[[1, 2, 3], [4, 5, 6]],\n",
        "                     [[7, 8, 9], [10, 11, 12]]])\n",
        "\n",
        "flipped_lr_3d = np.fliplr(array_3d)\n",
        "\n",
        "flipped_ud_3d = np.flipud(array_3d)\n",
        "\n",
        "print(\"Original 3D array:\\n\", array_3d)\n",
        "print(\"Array after fliplr (3D):\\n\", flipped_lr_3d)\n",
        "print(\"Array after flipud (3D):\\n\", flipped_ud_3d)\n"
      ],
      "metadata": {
        "colab": {
          "base_uri": "https://localhost:8080/"
        },
        "id": "v8f0Ydwp09zI",
        "outputId": "e9279f58-40dd-4ace-eac2-7364bb1aa584"
      },
      "execution_count": 16,
      "outputs": [
        {
          "output_type": "stream",
          "name": "stdout",
          "text": [
            "Original 3D array:\n",
            " [[[ 1  2  3]\n",
            "  [ 4  5  6]]\n",
            "\n",
            " [[ 7  8  9]\n",
            "  [10 11 12]]]\n",
            "Array after fliplr (3D):\n",
            " [[[ 4  5  6]\n",
            "  [ 1  2  3]]\n",
            "\n",
            " [[10 11 12]\n",
            "  [ 7  8  9]]]\n",
            "Array after flipud (3D):\n",
            " [[[ 7  8  9]\n",
            "  [10 11 12]]\n",
            "\n",
            " [[ 1  2  3]\n",
            "  [ 4  5  6]]]\n"
          ]
        }
      ]
    },
    {
      "cell_type": "code",
      "source": [
        " #9) Discuss the functionality of the array_split() method in NumPy. How does it handle uneven splits?\n",
        ""
      ],
      "metadata": {
        "id": "s5T4vWiX1GkM"
      },
      "execution_count": null,
      "outputs": []
    },
    {
      "cell_type": "markdown",
      "source": [
        "The numpy.array_split() method is used to split an array into multiple sub-arrays, which can be either even or uneven. Unlike the np.split() method, which requires the array to be evenly divisible by the number of splits, array_split() can handle cases where the array cannot be split into equal parts. It automatically manages uneven splits by distributing the remainder as equally as possible among the sub-arrays."
      ],
      "metadata": {
        "id": "AgWPQiQJ1Xhg"
      }
    },
    {
      "cell_type": "code",
      "source": [
        "import numpy as np\n",
        "\n",
        "array = np.array([1, 2, 3, 4, 5, 6])\n",
        "\n",
        "split_even = np.array_split(array, 3)\n",
        "\n",
        "print(\"Even split:\\n\", split_even)\n"
      ],
      "metadata": {
        "colab": {
          "base_uri": "https://localhost:8080/"
        },
        "id": "c99uz31a1YY7",
        "outputId": "62779f13-77f2-4191-e06b-3f93325465bf"
      },
      "execution_count": 17,
      "outputs": [
        {
          "output_type": "stream",
          "name": "stdout",
          "text": [
            "Even split:\n",
            " [array([1, 2]), array([3, 4]), array([5, 6])]\n"
          ]
        }
      ]
    },
    {
      "cell_type": "code",
      "source": [
        "array_2d = np.array([[1, 2], [3, 4], [5, 6], [7, 8]])\n",
        "\n",
        "split_2d = np.array_split(array_2d, 3, axis=0)\n",
        "\n",
        "print(\"2D Array split along rows:\\n\", split_2d)\n"
      ],
      "metadata": {
        "colab": {
          "base_uri": "https://localhost:8080/"
        },
        "id": "-qNbc3n71n7g",
        "outputId": "3df3d7a2-a3e2-4d6f-f36c-c77ae4c727bd"
      },
      "execution_count": 18,
      "outputs": [
        {
          "output_type": "stream",
          "name": "stdout",
          "text": [
            "2D Array split along rows:\n",
            " [array([[1, 2],\n",
            "       [3, 4]]), array([[5, 6]]), array([[7, 8]])]\n"
          ]
        }
      ]
    },
    {
      "cell_type": "code",
      "source": [
        "#10)  Explain the concepts of vectorization and broadcasting in NumPy. How do they contribute to efficient array operations?"
      ],
      "metadata": {
        "id": "QwWxsUsy1qPB"
      },
      "execution_count": null,
      "outputs": []
    },
    {
      "cell_type": "markdown",
      "source": [
        "1. Vectorization in NumPy\n",
        "\n",
        "Vectorization is the process of performing operations on entire arrays (or \"vectors\") rather than individual elements. In NumPy, this means applying functions or operations directly to arrays, which are internally optimized using low-level, compiled code (such as C or Fortran). This allows for much faster execution compared to looping over elements in standard Python.\n",
        "\n",
        "How Vectorization Works\n",
        "\n",
        "Instead of writing explicit loops in Python to iterate over each element of an array, you can perform operations on the entire array at once using vectorized operations.\n",
        "\n",
        "NumPy's vectorized operations are implemented in C, so the interpreter overhead of a Python loop is avoided."
      ],
      "metadata": {
        "id": "w1ictuVs1wg6"
      }
    },
    {
      "cell_type": "code",
      "source": [
        "import numpy as np\n",
        "\n",
        "# Two lists of equal length\n",
        "a = [1, 2, 3, 4]\n",
        "b = [10, 20, 30, 40]\n",
        "\n",
        "# Using a Python loop to add elements\n",
        "result = []\n",
        "for i in range(len(a)):\n",
        "    result.append(a[i] + b[i])\n",
        "\n",
        "print(\"Result using loop:\", result)\n"
      ],
      "metadata": {
        "colab": {
          "base_uri": "https://localhost:8080/"
        },
        "id": "4jnnBtzM16HQ",
        "outputId": "4c359e0f-2608-4dc8-8a02-3914ff7e23e3"
      },
      "execution_count": 19,
      "outputs": [
        {
          "output_type": "stream",
          "name": "stdout",
          "text": [
            "Result using loop: [11, 22, 33, 44]\n"
          ]
        }
      ]
    },
    {
      "cell_type": "code",
      "source": [
        "# Using NumPy for vectorized addition\n",
        "a = np.array([1, 2, 3, 4])\n",
        "b = np.array([10, 20, 30, 40])\n",
        "\n",
        "result = a + b\n",
        "print(\"Result using vectorization:\", result)\n"
      ],
      "metadata": {
        "colab": {
          "base_uri": "https://localhost:8080/"
        },
        "id": "jngHurPC183o",
        "outputId": "0855503e-7644-42f1-fac5-2e04226cbbc3"
      },
      "execution_count": 20,
      "outputs": [
        {
          "output_type": "stream",
          "name": "stdout",
          "text": [
            "Result using vectorization: [11 22 33 44]\n"
          ]
        }
      ]
    },
    {
      "cell_type": "markdown",
      "source": [
        "2. Broadcasting in NumPy\n",
        "\n",
        "Broadcasting refers to the ability of NumPy to perform element-wise operations on arrays of different shapes by \"broadcasting\" the smaller array over the larger one. This allows arrays with different dimensions to be combined in arithmetic operations without the need for explicitly reshaping them.\n",
        "\n",
        "How Broadcasting Works\n",
        "\n",
        "When two arrays have different shapes, NumPy attempts to stretch the smaller array along the mismatched dimensions to match the shape of the larger array. However, this only works if certain rules are satisfied:\n",
        "\n",
        "Broadcasting Rules\n",
        "\n",
        "Rule 1: If the arrays differ in the number of dimensions, the shape of the smaller array is padded with ones on the left side.\n",
        "\n",
        "Rule 2: Arrays can be broadcast together if, in all dimensions, their sizes either:\n",
        "Are equal, or\n",
        "One of them is 1 (meaning the smaller array can be \"stretched\" along this dimension)."
      ],
      "metadata": {
        "id": "Ff79VSXp2oah"
      }
    },
    {
      "cell_type": "code",
      "source": [
        "a = np.array([[1, 2, 3], [4, 5, 6]])  # Shape (2, 3)\n",
        "b = np.array([10, 20, 30])            # Shape (3,)\n",
        "\n",
        "# Broadcasting the smaller array across the larger one\n",
        "result = a + b\n",
        "print(\"Result of broadcasting with array:\", result)\n"
      ],
      "metadata": {
        "colab": {
          "base_uri": "https://localhost:8080/"
        },
        "id": "X6Juu6Mj2ydq",
        "outputId": "5251052b-1a50-4b7d-80b5-2698cd11b33d"
      },
      "execution_count": 21,
      "outputs": [
        {
          "output_type": "stream",
          "name": "stdout",
          "text": [
            "Result of broadcasting with array: [[11 22 33]\n",
            " [14 25 36]]\n"
          ]
        }
      ]
    }
  ]
}